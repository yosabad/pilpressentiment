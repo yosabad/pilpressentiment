{
 "cells": [
  {
   "cell_type": "markdown",
   "id": "14a43e65",
   "metadata": {},
   "source": [
    "### Business Understanding"
   ]
  },
  {
   "cell_type": "markdown",
   "id": "1b6fa891",
   "metadata": {},
   "source": [
    "Pada proyek akhir ini saya akan mencari sebuah topik yang menyangkut calon presiden 2024 untuk dianalisis guna melihat bagaimana sentimen yang terjadi di media sosial terhadap setiap calon presiden yang tersedia"
   ]
  },
  {
   "cell_type": "markdown",
   "id": "2784b4cd",
   "metadata": {},
   "source": [
    "### Data Understanding"
   ]
  },
  {
   "cell_type": "code",
   "execution_count": 245,
   "id": "583a7e0d",
   "metadata": {},
   "outputs": [],
   "source": [
    "#module yang diperlukan\n",
    "import pandas as pd\n",
    "import numpy as np\n",
    "import matplotlib.pyplot as plt\n",
    "import json, tweepy, requests, re, string\n",
    "import seaborn as sns\n",
    "import datetime\n",
    "import nltk\n",
    "from nltk.tokenize import word_tokenize, sent_tokenize\n",
    "from nltk.corpus import stopwords\n",
    "from nltk.probability import FreqDist\n",
    "from Sastrawi.Stemmer.StemmerFactory import StemmerFactory as SF\n",
    "from urllib.request import urlopen\n",
    "from bs4 import BeautifulSoup\n",
    "\n",
    "from sklearn.feature_extraction.text import TfidfVectorizer\n",
    "from sklearn.naive_bayes import GaussianNB\n",
    "from sklearn.model_selection import train_test_split\n",
    "from sklearn.metrics import classification_report, confusion_matrix, accuracy_score"
   ]
  },
  {
   "cell_type": "markdown",
   "id": "ad13e0e5",
   "metadata": {},
   "source": [
    "#### Data Collection"
   ]
  },
  {
   "cell_type": "code",
   "execution_count": 177,
   "id": "10ad5f01",
   "metadata": {},
   "outputs": [],
   "source": [
    "#mendapatkan akses twitter developer\n",
    "with open(\"token.json\")as f:\n",
    "    tokens = json.load(f)\n",
    "\n",
    "bearer_token = tokens['bearer_token']\n",
    "api_key = tokens['api_key']\n",
    "api_key_secret = tokens['api_key_secret']\n",
    "access_token = tokens['access_token']\n",
    "access_token_secret = tokens['access_token_secret']"
   ]
  },
  {
   "cell_type": "code",
   "execution_count": 178,
   "id": "1c24e45e",
   "metadata": {},
   "outputs": [],
   "source": [
    "#mengambil 300 data dari twitter\n",
    "query = \"calon presiden 2024 -is:retweet lang:id\"\n",
    "start_time = '2023-01-18T00:00:00Z'\n",
    "end_time = '2023-01-21T00:00:00Z'\n",
    "api = tweepy.Client(bearer_token=bearer_token, wait_on_rate_limit=True)\n",
    "response = tweepy.Paginator(api.search_recent_tweets,\n",
    "                            query = query,\n",
    "                            max_results=100,\n",
    "                            start_time=start_time,\n",
    "                            end_time=end_time,\n",
    "                            tweet_fields=['created_at']\n",
    "                          ).flatten(limit=300)"
   ]
  },
  {
   "cell_type": "code",
   "execution_count": 179,
   "id": "0c186a35",
   "metadata": {},
   "outputs": [],
   "source": [
    "#menyimpan data ke dalam list\n",
    "tweets = []\n",
    "dates = []\n",
    "for data in response:\n",
    "    tweets.append(data.text.strip())\n",
    "    dates.append(data.created_at)"
   ]
  },
  {
   "cell_type": "code",
   "execution_count": 180,
   "id": "e989b2b7",
   "metadata": {},
   "outputs": [
    {
     "data": {
      "text/html": [
       "<div>\n",
       "<style scoped>\n",
       "    .dataframe tbody tr th:only-of-type {\n",
       "        vertical-align: middle;\n",
       "    }\n",
       "\n",
       "    .dataframe tbody tr th {\n",
       "        vertical-align: top;\n",
       "    }\n",
       "\n",
       "    .dataframe thead th {\n",
       "        text-align: right;\n",
       "    }\n",
       "</style>\n",
       "<table border=\"1\" class=\"dataframe\">\n",
       "  <thead>\n",
       "    <tr style=\"text-align: right;\">\n",
       "      <th></th>\n",
       "      <th>tanggal</th>\n",
       "      <th>tweet</th>\n",
       "    </tr>\n",
       "  </thead>\n",
       "  <tbody>\n",
       "    <tr>\n",
       "      <th>0</th>\n",
       "      <td>2023-01-20 23:09:45+00:00</td>\n",
       "      <td>@AnakLolina2 Smoga kedepannya GP ada yg mengus...</td>\n",
       "    </tr>\n",
       "    <tr>\n",
       "      <th>1</th>\n",
       "      <td>2023-01-20 18:49:07+00:00</td>\n",
       "      <td>Muzani menegaskan, keputusan calon presiden da...</td>\n",
       "    </tr>\n",
       "    <tr>\n",
       "      <th>2</th>\n",
       "      <td>2023-01-20 18:42:30+00:00</td>\n",
       "      <td>Sekjen Muzani menegaskan, keputusan calon pres...</td>\n",
       "    </tr>\n",
       "    <tr>\n",
       "      <th>3</th>\n",
       "      <td>2023-01-20 18:35:54+00:00</td>\n",
       "      <td>Muzani menegaskan, keputusan calon presiden da...</td>\n",
       "    </tr>\n",
       "    <tr>\n",
       "      <th>4</th>\n",
       "      <td>2023-01-20 18:35:51+00:00</td>\n",
       "      <td>@CNNIndonesia Bukan anggaran covid itu dari pe...</td>\n",
       "    </tr>\n",
       "  </tbody>\n",
       "</table>\n",
       "</div>"
      ],
      "text/plain": [
       "                    tanggal                                              tweet\n",
       "0 2023-01-20 23:09:45+00:00  @AnakLolina2 Smoga kedepannya GP ada yg mengus...\n",
       "1 2023-01-20 18:49:07+00:00  Muzani menegaskan, keputusan calon presiden da...\n",
       "2 2023-01-20 18:42:30+00:00  Sekjen Muzani menegaskan, keputusan calon pres...\n",
       "3 2023-01-20 18:35:54+00:00  Muzani menegaskan, keputusan calon presiden da...\n",
       "4 2023-01-20 18:35:51+00:00  @CNNIndonesia Bukan anggaran covid itu dari pe..."
      ]
     },
     "execution_count": 180,
     "metadata": {},
     "output_type": "execute_result"
    }
   ],
   "source": [
    "#membuat dataframe dari list sebelumny\n",
    "df = pd.DataFrame({'tanggal':dates,'tweet':tweets})\n",
    "df.head()"
   ]
  },
  {
   "cell_type": "code",
   "execution_count": 181,
   "id": "d14e293e",
   "metadata": {},
   "outputs": [],
   "source": [
    "df['tanggal'] = pd.to_datetime(df['tanggal'],utc=True)\n",
    "df['tanggal'] = df['tanggal'].dt.date"
   ]
  },
  {
   "cell_type": "code",
   "execution_count": 182,
   "id": "e2074b62",
   "metadata": {},
   "outputs": [
    {
     "data": {
      "text/html": [
       "<div>\n",
       "<style scoped>\n",
       "    .dataframe tbody tr th:only-of-type {\n",
       "        vertical-align: middle;\n",
       "    }\n",
       "\n",
       "    .dataframe tbody tr th {\n",
       "        vertical-align: top;\n",
       "    }\n",
       "\n",
       "    .dataframe thead th {\n",
       "        text-align: right;\n",
       "    }\n",
       "</style>\n",
       "<table border=\"1\" class=\"dataframe\">\n",
       "  <thead>\n",
       "    <tr style=\"text-align: right;\">\n",
       "      <th></th>\n",
       "      <th>tanggal</th>\n",
       "      <th>tweet</th>\n",
       "    </tr>\n",
       "  </thead>\n",
       "  <tbody>\n",
       "    <tr>\n",
       "      <th>0</th>\n",
       "      <td>2023-01-20</td>\n",
       "      <td>@AnakLolina2 Smoga kedepannya GP ada yg mengus...</td>\n",
       "    </tr>\n",
       "    <tr>\n",
       "      <th>1</th>\n",
       "      <td>2023-01-20</td>\n",
       "      <td>Muzani menegaskan, keputusan calon presiden da...</td>\n",
       "    </tr>\n",
       "    <tr>\n",
       "      <th>2</th>\n",
       "      <td>2023-01-20</td>\n",
       "      <td>Sekjen Muzani menegaskan, keputusan calon pres...</td>\n",
       "    </tr>\n",
       "    <tr>\n",
       "      <th>3</th>\n",
       "      <td>2023-01-20</td>\n",
       "      <td>Muzani menegaskan, keputusan calon presiden da...</td>\n",
       "    </tr>\n",
       "    <tr>\n",
       "      <th>4</th>\n",
       "      <td>2023-01-20</td>\n",
       "      <td>@CNNIndonesia Bukan anggaran covid itu dari pe...</td>\n",
       "    </tr>\n",
       "  </tbody>\n",
       "</table>\n",
       "</div>"
      ],
      "text/plain": [
       "      tanggal                                              tweet\n",
       "0  2023-01-20  @AnakLolina2 Smoga kedepannya GP ada yg mengus...\n",
       "1  2023-01-20  Muzani menegaskan, keputusan calon presiden da...\n",
       "2  2023-01-20  Sekjen Muzani menegaskan, keputusan calon pres...\n",
       "3  2023-01-20  Muzani menegaskan, keputusan calon presiden da...\n",
       "4  2023-01-20  @CNNIndonesia Bukan anggaran covid itu dari pe..."
      ]
     },
     "execution_count": 182,
     "metadata": {},
     "output_type": "execute_result"
    }
   ],
   "source": [
    "df.head()"
   ]
  },
  {
   "cell_type": "code",
   "execution_count": 183,
   "id": "1657b76e",
   "metadata": {},
   "outputs": [],
   "source": [
    "#mengambil 10 data dari situs harianterbit.com\n",
    "alamat = \"https://www.harianterbit.com/tag/Pilpres-2024\"\n",
    "html = urlopen(alamat)\n",
    "data = BeautifulSoup(html, 'html.parser')"
   ]
  },
  {
   "cell_type": "code",
   "execution_count": 184,
   "id": "3d047795",
   "metadata": {},
   "outputs": [],
   "source": [
    "table = data.findAll(\"div\", {\"class\":\"latest__wrap\"})[0]\n",
    "rows = table.findAll(\"div\", {\"class\":\"latest__right\"})"
   ]
  },
  {
   "cell_type": "code",
   "execution_count": 185,
   "id": "b9319055",
   "metadata": {},
   "outputs": [],
   "source": [
    "titles = []\n",
    "dates2 = []\n",
    "for row in rows:\n",
    "    for title in row.findAll(\"a\", {\"class\":\"latest__link\"}):\n",
    "        titles.append(title.get_text())\n",
    "    for date in row.findAll(\"date\", {\"class\":\"latest__date\"}):\n",
    "        dates2.append(date.get_text())"
   ]
  },
  {
   "cell_type": "code",
   "execution_count": 186,
   "id": "1f0c5b4c",
   "metadata": {},
   "outputs": [],
   "source": [
    "new_date = []\n",
    "for i in dates2:\n",
    "    new_date.append(datetime.datetime(int(i.split()[3]), 1, int(i.split()[1])))"
   ]
  },
  {
   "cell_type": "code",
   "execution_count": 187,
   "id": "e9d98c97",
   "metadata": {},
   "outputs": [
    {
     "data": {
      "text/html": [
       "<div>\n",
       "<style scoped>\n",
       "    .dataframe tbody tr th:only-of-type {\n",
       "        vertical-align: middle;\n",
       "    }\n",
       "\n",
       "    .dataframe tbody tr th {\n",
       "        vertical-align: top;\n",
       "    }\n",
       "\n",
       "    .dataframe thead th {\n",
       "        text-align: right;\n",
       "    }\n",
       "</style>\n",
       "<table border=\"1\" class=\"dataframe\">\n",
       "  <thead>\n",
       "    <tr style=\"text-align: right;\">\n",
       "      <th></th>\n",
       "      <th>tanggal</th>\n",
       "      <th>tweet</th>\n",
       "    </tr>\n",
       "  </thead>\n",
       "  <tbody>\n",
       "    <tr>\n",
       "      <th>0</th>\n",
       "      <td>2023-01-21</td>\n",
       "      <td>Rangkul Milenial, Sahabat Ganjar Gelar Kegiata...</td>\n",
       "    </tr>\n",
       "    <tr>\n",
       "      <th>1</th>\n",
       "      <td>2023-01-17</td>\n",
       "      <td>Duet Prabowo-Puan Dinilai Sulit Terwujud di Pi...</td>\n",
       "    </tr>\n",
       "    <tr>\n",
       "      <th>2</th>\n",
       "      <td>2023-01-14</td>\n",
       "      <td>Sandiaga Kepada Prabowo: Tunduk dan Loyal ke G...</td>\n",
       "    </tr>\n",
       "    <tr>\n",
       "      <th>3</th>\n",
       "      <td>2023-01-13</td>\n",
       "      <td>Prabowo Ditinggal Pemilih Muslim, Beralih ke A...</td>\n",
       "    </tr>\n",
       "    <tr>\n",
       "      <th>4</th>\n",
       "      <td>2023-01-12</td>\n",
       "      <td>Pemilih Prabowo Pindah ke Anies Baswedan!</td>\n",
       "    </tr>\n",
       "    <tr>\n",
       "      <th>5</th>\n",
       "      <td>2023-01-05</td>\n",
       "      <td>Ramalan Hard Gumay tentang Presiden 2024: Suku...</td>\n",
       "    </tr>\n",
       "    <tr>\n",
       "      <th>6</th>\n",
       "      <td>2023-01-03</td>\n",
       "      <td>Ketum PBB Yusril sebut Calon Presiden yang Ide...</td>\n",
       "    </tr>\n",
       "    <tr>\n",
       "      <th>7</th>\n",
       "      <td>2023-01-02</td>\n",
       "      <td>Kembali pada Sistem Proporsional Tertutup Dise...</td>\n",
       "    </tr>\n",
       "    <tr>\n",
       "      <th>8</th>\n",
       "      <td>2023-01-01</td>\n",
       "      <td>Ramalan Capres 2024: Dari yang Pro Kontra Hing...</td>\n",
       "    </tr>\n",
       "    <tr>\n",
       "      <th>9</th>\n",
       "      <td>2023-01-01</td>\n",
       "      <td>Ramalan Pilpres 2024: Ada Lima Bakal Capres, H...</td>\n",
       "    </tr>\n",
       "  </tbody>\n",
       "</table>\n",
       "</div>"
      ],
      "text/plain": [
       "     tanggal                                              tweet\n",
       "0 2023-01-21  Rangkul Milenial, Sahabat Ganjar Gelar Kegiata...\n",
       "1 2023-01-17  Duet Prabowo-Puan Dinilai Sulit Terwujud di Pi...\n",
       "2 2023-01-14  Sandiaga Kepada Prabowo: Tunduk dan Loyal ke G...\n",
       "3 2023-01-13  Prabowo Ditinggal Pemilih Muslim, Beralih ke A...\n",
       "4 2023-01-12         Pemilih Prabowo Pindah ke Anies Baswedan! \n",
       "5 2023-01-05  Ramalan Hard Gumay tentang Presiden 2024: Suku...\n",
       "6 2023-01-03  Ketum PBB Yusril sebut Calon Presiden yang Ide...\n",
       "7 2023-01-02  Kembali pada Sistem Proporsional Tertutup Dise...\n",
       "8 2023-01-01  Ramalan Capres 2024: Dari yang Pro Kontra Hing...\n",
       "9 2023-01-01  Ramalan Pilpres 2024: Ada Lima Bakal Capres, H..."
      ]
     },
     "execution_count": 187,
     "metadata": {},
     "output_type": "execute_result"
    }
   ],
   "source": [
    "#menyimpan data baru ke dataframe sementara\n",
    "df_temp = pd.DataFrame({'tanggal':new_date,'tweet':titles})\n",
    "df_temp"
   ]
  },
  {
   "cell_type": "code",
   "execution_count": 188,
   "id": "a13bb79c",
   "metadata": {},
   "outputs": [],
   "source": [
    "df_temp['tanggal'] = df_temp['tanggal'].dt.date"
   ]
  },
  {
   "cell_type": "code",
   "execution_count": 189,
   "id": "6519052b",
   "metadata": {},
   "outputs": [
    {
     "data": {
      "text/plain": [
       "(310, 2)"
      ]
     },
     "execution_count": 189,
     "metadata": {},
     "output_type": "execute_result"
    }
   ],
   "source": [
    "#menyatukan dataframe\n",
    "df = pd.concat([df,df_temp],ignore_index=True)\n",
    "df.shape"
   ]
  },
  {
   "cell_type": "code",
   "execution_count": 190,
   "id": "fb670a4e",
   "metadata": {},
   "outputs": [],
   "source": [
    "#simpan menjadi file .csv\n",
    "df.to_csv('data_mentah_yosabad.csv')"
   ]
  },
  {
   "cell_type": "markdown",
   "id": "450fe665",
   "metadata": {},
   "source": [
    "#### Data Preprocessing"
   ]
  },
  {
   "cell_type": "code",
   "execution_count": 193,
   "id": "e09982ad",
   "metadata": {},
   "outputs": [
    {
     "data": {
      "text/html": [
       "<div>\n",
       "<style scoped>\n",
       "    .dataframe tbody tr th:only-of-type {\n",
       "        vertical-align: middle;\n",
       "    }\n",
       "\n",
       "    .dataframe tbody tr th {\n",
       "        vertical-align: top;\n",
       "    }\n",
       "\n",
       "    .dataframe thead th {\n",
       "        text-align: right;\n",
       "    }\n",
       "</style>\n",
       "<table border=\"1\" class=\"dataframe\">\n",
       "  <thead>\n",
       "    <tr style=\"text-align: right;\">\n",
       "      <th></th>\n",
       "      <th>tanggal</th>\n",
       "      <th>tweet</th>\n",
       "    </tr>\n",
       "  </thead>\n",
       "  <tbody>\n",
       "    <tr>\n",
       "      <th>0</th>\n",
       "      <td>2023-01-20</td>\n",
       "      <td>@AnakLolina2 Smoga kedepannya GP ada yg mengus...</td>\n",
       "    </tr>\n",
       "    <tr>\n",
       "      <th>1</th>\n",
       "      <td>2023-01-20</td>\n",
       "      <td>Muzani menegaskan, keputusan calon presiden da...</td>\n",
       "    </tr>\n",
       "    <tr>\n",
       "      <th>2</th>\n",
       "      <td>2023-01-20</td>\n",
       "      <td>Sekjen Muzani menegaskan, keputusan calon pres...</td>\n",
       "    </tr>\n",
       "    <tr>\n",
       "      <th>3</th>\n",
       "      <td>2023-01-20</td>\n",
       "      <td>Muzani menegaskan, keputusan calon presiden da...</td>\n",
       "    </tr>\n",
       "    <tr>\n",
       "      <th>4</th>\n",
       "      <td>2023-01-20</td>\n",
       "      <td>@CNNIndonesia Bukan anggaran covid itu dari pe...</td>\n",
       "    </tr>\n",
       "  </tbody>\n",
       "</table>\n",
       "</div>"
      ],
      "text/plain": [
       "      tanggal                                              tweet\n",
       "0  2023-01-20  @AnakLolina2 Smoga kedepannya GP ada yg mengus...\n",
       "1  2023-01-20  Muzani menegaskan, keputusan calon presiden da...\n",
       "2  2023-01-20  Sekjen Muzani menegaskan, keputusan calon pres...\n",
       "3  2023-01-20  Muzani menegaskan, keputusan calon presiden da...\n",
       "4  2023-01-20  @CNNIndonesia Bukan anggaran covid itu dari pe..."
      ]
     },
     "execution_count": 193,
     "metadata": {},
     "output_type": "execute_result"
    }
   ],
   "source": [
    "data = pd.read_csv('data_mentah_yosabad.csv',index_col=0)\n",
    "data.head()"
   ]
  },
  {
   "cell_type": "code",
   "execution_count": 194,
   "id": "2d62d5af",
   "metadata": {},
   "outputs": [
    {
     "name": "stdout",
     "output_type": "stream",
     "text": [
      "Cek slang di dataset:\n"
     ]
    },
    {
     "data": {
      "text/plain": [
       "[('#', 401),\n",
       " ('presiden', 308),\n",
       " ('calon', 287),\n",
       " ('2024', 281),\n",
       " ('Prabowo', 270),\n",
       " ('.', 256),\n",
       " (',', 245),\n",
       " ('di', 213),\n",
       " (':', 208),\n",
       " ('https', 201),\n",
       " ('@', 168),\n",
       " ('Subianto', 143),\n",
       " ('Pilpres', 119),\n",
       " ('(', 113),\n",
       " (')', 113)]"
      ]
     },
     "execution_count": 194,
     "metadata": {},
     "output_type": "execute_result"
    }
   ],
   "source": [
    "#melihat slang pada setiap kalimat\n",
    "def slangs(data):\n",
    "    data = data.apply(lambda x: word_tokenize(str(x)))\n",
    "    twt = [word for tweet in data for word in tweet]\n",
    "    fqdist = FreqDist(twt)\n",
    "    most_common_word = fqdist.most_common(15)\n",
    "    return fqdist, most_common_word\n",
    "\n",
    "print('Cek slang di dataset:')\n",
    "slangs(data['tweet'])[1]"
   ]
  },
  {
   "cell_type": "code",
   "execution_count": 195,
   "id": "7c76f629",
   "metadata": {},
   "outputs": [],
   "source": [
    "#mengubah format data dan menghapus slang\n",
    "def case_folding(data):\n",
    "    data = data.lower()\n",
    "    data = ' '.join(re.sub(\"(@[A-Za-z0-9]+)|([^0-9A-Za-z \\t])|(\\w+:\\/\\/\\S+)\",\" \",data).split())\n",
    "    data = re.sub(r\"\\d+\", \"\", data)\n",
    "    data = data.translate(str.maketrans(\"\",\"\",string.punctuation))\n",
    "    data = re.sub(r\"\\n\",\"\",data)\n",
    "    data = re.sub(r\"\\t\",\"\",data)\n",
    "    return data\n",
    "\n",
    "def stopword_cleaner(data):\n",
    "    sw_indonesia = stopwords.words(\"indonesian\")\n",
    "    sw_indonesia.extend(['https','di'])\n",
    "    data  = [word for word in data if word not in sw_indonesia]\n",
    "    data = ' '.join(data)\n",
    "    return data"
   ]
  },
  {
   "cell_type": "code",
   "execution_count": 196,
   "id": "04783486",
   "metadata": {},
   "outputs": [],
   "source": [
    "for index in range (len(data[\"tweet\"])):\n",
    "    data[\"tweet\"].iloc[index] = case_folding(data[\"tweet\"].iloc[index])\n",
    "    data[\"tweet\"].iloc[index] = word_tokenize(data[\"tweet\"].iloc[index])\n",
    "    data[\"tweet\"].iloc[index] = stopword_cleaner(data[\"tweet\"].iloc[index])"
   ]
  },
  {
   "cell_type": "code",
   "execution_count": 197,
   "id": "273892c3",
   "metadata": {},
   "outputs": [
    {
     "data": {
      "text/html": [
       "<div>\n",
       "<style scoped>\n",
       "    .dataframe tbody tr th:only-of-type {\n",
       "        vertical-align: middle;\n",
       "    }\n",
       "\n",
       "    .dataframe tbody tr th {\n",
       "        vertical-align: top;\n",
       "    }\n",
       "\n",
       "    .dataframe thead th {\n",
       "        text-align: right;\n",
       "    }\n",
       "</style>\n",
       "<table border=\"1\" class=\"dataframe\">\n",
       "  <thead>\n",
       "    <tr style=\"text-align: right;\">\n",
       "      <th></th>\n",
       "      <th>tanggal</th>\n",
       "      <th>tweet</th>\n",
       "    </tr>\n",
       "  </thead>\n",
       "  <tbody>\n",
       "    <tr>\n",
       "      <th>0</th>\n",
       "      <td>2023-01-20</td>\n",
       "      <td>smoga kedepannya gp yg mengusung jdi calon pre...</td>\n",
       "    </tr>\n",
       "    <tr>\n",
       "      <th>1</th>\n",
       "      <td>2023-01-20</td>\n",
       "      <td>muzani keputusan calon presiden wakil presiden...</td>\n",
       "    </tr>\n",
       "    <tr>\n",
       "      <th>2</th>\n",
       "      <td>2023-01-20</td>\n",
       "      <td>sekjen muzani keputusan calon presiden wakil p...</td>\n",
       "    </tr>\n",
       "    <tr>\n",
       "      <th>3</th>\n",
       "      <td>2023-01-20</td>\n",
       "      <td>muzani keputusan calon presiden wakil presiden...</td>\n",
       "    </tr>\n",
       "    <tr>\n",
       "      <th>4</th>\n",
       "      <td>2023-01-20</td>\n",
       "      <td>anggaran covid pengsung calon presiden mu anie...</td>\n",
       "    </tr>\n",
       "  </tbody>\n",
       "</table>\n",
       "</div>"
      ],
      "text/plain": [
       "      tanggal                                              tweet\n",
       "0  2023-01-20  smoga kedepannya gp yg mengusung jdi calon pre...\n",
       "1  2023-01-20  muzani keputusan calon presiden wakil presiden...\n",
       "2  2023-01-20  sekjen muzani keputusan calon presiden wakil p...\n",
       "3  2023-01-20  muzani keputusan calon presiden wakil presiden...\n",
       "4  2023-01-20  anggaran covid pengsung calon presiden mu anie..."
      ]
     },
     "execution_count": 197,
     "metadata": {},
     "output_type": "execute_result"
    }
   ],
   "source": [
    "data.head()"
   ]
  },
  {
   "cell_type": "markdown",
   "id": "c19e0270",
   "metadata": {},
   "source": [
    "#### Data Analysis"
   ]
  },
  {
   "cell_type": "code",
   "execution_count": 207,
   "id": "470a6dd8",
   "metadata": {},
   "outputs": [
    {
     "data": {
      "image/png": "[encoded data removed]",
      "text/plain": [
       "<Figure size 432x288 with 1 Axes>"
      ]
     },
     "metadata": {
      "needs_background": "light"
     },
     "output_type": "display_data"
    }
   ],
   "source": [
    "#melihat distribusi frekuensi karakter per kalimat\n",
    "char_freq = np.arange(0, 250, 20)\n",
    "data['tweet'].str.len().hist(bins=char_freq)\n",
    "plt.show()"
   ]
  },
  {
   "cell_type": "code",
   "execution_count": 209,
   "id": "72101136",
   "metadata": {},
   "outputs": [
    {
     "data": {
      "image/png": "[encoded data removed]",
      "text/plain": [
       "<Figure size 432x288 with 1 Axes>"
      ]
     },
     "metadata": {
      "needs_background": "light"
     },
     "output_type": "display_data"
    }
   ],
   "source": [
    "#melihat distribusi panjang kata per kalimat\n",
    "word_len = np.arange(0, 50, 5)\n",
    "data['tweet'].str.split().map(lambda x: len(x)).hist(bins=word_len)\n",
    "plt.show()"
   ]
  },
  {
   "cell_type": "code",
   "execution_count": 210,
   "id": "318ea19f",
   "metadata": {},
   "outputs": [
    {
     "data": {
      "image/png": "[encoded data removed]",
      "text/plain": [
       "<Figure size 432x288 with 1 Axes>"
      ]
     },
     "metadata": {
      "needs_background": "light"
     },
     "output_type": "display_data"
    }
   ],
   "source": [
    "#melihat distribusi panjang rata-rata kata per kalimat\n",
    "data['tweet'].str.split().apply(lambda x : [len(i) for i in x]).map(lambda x: np.mean(x)).hist()\n",
    "plt.show()"
   ]
  },
  {
   "cell_type": "code",
   "execution_count": 212,
   "id": "43e803b3",
   "metadata": {},
   "outputs": [
    {
     "data": {
      "image/png": "[encoded data removed]",
      "text/plain": [
       "<Figure size 432x288 with 1 Axes>"
      ]
     },
     "metadata": {
      "needs_background": "light"
     },
     "output_type": "display_data"
    }
   ],
   "source": [
    "#melihat distribusi kata yang sering keluar\n",
    "slangs(data['tweet'])[0].plot(10,cumulative=False,title='Distribusi kata yang sering keluar pada data')\n",
    "plt.show()"
   ]
  },
  {
   "cell_type": "markdown",
   "id": "b7244a5c",
   "metadata": {},
   "source": [
    "#### Data Processing (tidak menggunakan machine learning)"
   ]
  },
  {
   "cell_type": "code",
   "execution_count": 236,
   "id": "db8d2995",
   "metadata": {},
   "outputs": [],
   "source": [
    "#membuka file berisi kata positif dan negatif\n",
    "with open(\"./kata_positif.txt\",\"r\") as positif_file :\n",
    "    positive_words = list(set(positif_file.readlines()))\n",
    "with open(\"./kata_negatif.txt\",\"r\") as negative_file :\n",
    "    negative_words = list(set(negative_file.readlines()))"
   ]
  },
  {
   "cell_type": "code",
   "execution_count": 237,
   "id": "e8cb3db8",
   "metadata": {},
   "outputs": [],
   "source": [
    "#mengecek setiap kata apakah termasuk kata positif atau negatif\n",
    "hasil = []\n",
    "for tweet in data['tweet']:\n",
    "    tweet_clean = tweet.strip().split()\n",
    "    good_count = 0\n",
    "    bad_count = 0\n",
    "    for good_word in positive_words:\n",
    "        count = tweet_clean.count(good_word.strip().lower())\n",
    "        if count > 0:\n",
    "            good_count += count\n",
    "    for bad_word in negative_words:\n",
    "        count = tweet_clean.count(bad_word.strip().lower())\n",
    "        if count > 0:\n",
    "            bad_count += count\n",
    "    hasil.append(good_count - bad_count)"
   ]
  },
  {
   "cell_type": "code",
   "execution_count": 238,
   "id": "6fbbf45e",
   "metadata": {},
   "outputs": [],
   "source": [
    "#menambah kolom baru berupa sentimen\n",
    "sentiments = [\"positif\" if sentimen > 0 else (\"netral\" if sentimen == 0 else \"negatif\") for sentimen in hasil]\n",
    "data[\"sentiment\"] = sentiments"
   ]
  },
  {
   "cell_type": "code",
   "execution_count": 239,
   "id": "fd19236e",
   "metadata": {},
   "outputs": [
    {
     "data": {
      "image/png": "[encoded data removed]",
      "text/plain": [
       "<Figure size 432x288 with 1 Axes>"
      ]
     },
     "metadata": {
      "needs_background": "light"
     },
     "output_type": "display_data"
    }
   ],
   "source": [
    "#visualisasi sentimen\n",
    "n = data['sentiment'].value_counts()\n",
    "sns.barplot(x=n.index, y=n)\n",
    "plt.show()"
   ]
  },
  {
   "cell_type": "code",
   "execution_count": 242,
   "id": "85e95f7f",
   "metadata": {},
   "outputs": [
    {
     "data": {
      "image/png": "[encoded data removed]",
      "text/plain": [
       "<Figure size 432x288 with 1 Axes>"
      ]
     },
     "metadata": {
      "needs_background": "light"
     },
     "output_type": "display_data"
    }
   ],
   "source": [
    "#melihat distribusi sentimen dari skor yang dihasilkan\n",
    "labels, counts = np.unique(hasil, return_counts=True)\n",
    "fig, ax = plt.subplots()\n",
    "ax.set_xticks(ax.get_xticks())\n",
    "sns.barplot(x = list(labels), \n",
    "            y = list(counts))\n",
    "sns.lineplot(x = ax.get_xticks(), \n",
    "            y = list(counts))\n",
    "plt.title('Distribution Sentiment')\n",
    "plt.xlabel('Labels')\n",
    "plt.ylabel('Counts')\n",
    "plt.show()"
   ]
  },
  {
   "cell_type": "code",
   "execution_count": 241,
   "id": "56a32029",
   "metadata": {},
   "outputs": [
    {
     "name": "stdout",
     "output_type": "stream",
     "text": [
      "(calon, presiden)           213\n",
      "(prabowo, subianto)         117\n",
      "(maju, calon)                72\n",
      "(prabowo, indonesia)         65\n",
      "(indonesia, maju)            65\n",
      "(mending, prabowo)           60\n",
      "(elektabilitas, prabowo)     51\n",
      "(survei, calon)              51\n",
      "(presiden, capres)           48\n",
      "(subianto, maju)             44\n",
      "(teratas, survei)            44\n",
      "(lembaga, survei)            42\n",
      "(survei, nasional)           42\n",
      "(ridwan, kamil)              37\n",
      "(joko, widodo)               36\n",
      "(presiden, lembaga)          36\n",
      "(presiden, joko)             35\n",
      "(urutan, teratas)            33\n",
      "(partai, gerindra)           31\n",
      "(pilpres, bersamajuara)      30\n",
      "dtype: int64\n"
     ]
    }
   ],
   "source": [
    "#melihat bigram sentimen dengan nilai terbanyak yaitu sentimen positif\n",
    "pos = [word for tweet in data[data['sentiment']=='positif']['tweet'] for word in tweet.split()]\n",
    "result = pd.Series(nltk.ngrams(pos, 2)).value_counts()[:20]\n",
    "print(result)"
   ]
  },
  {
   "cell_type": "markdown",
   "id": "15ef4098",
   "metadata": {},
   "source": [
    "### Reporting"
   ]
  },
  {
   "cell_type": "markdown",
   "id": "b1bd3924",
   "metadata": {},
   "source": [
    "Berdasarkan analisis di atas, didapatkan beberapa informasi yang dapat dirangkum menjadi poin-poin berikut:\n",
    "- Dataset memiliki persebaran 10 hingga 20 kata per kalimat yang mana setiap kalimat memiliki 6 hingga 8 kata\n",
    "- Setiap kalimat terdiri dari 100 hingga 120 karakter\n",
    "- Tiga kata yang paling sering keluar pada data ini adalah \"presiden\", \"calon\", dan \"prabowo\"\n",
    "- Sentimen yang dimiliki oleh dataset ini adalah sentimen positif dengan jumlah lebih dari 200 baris data\n",
    "- Tiga bigram (2 kata) yang sering dibicarakan pada data yang memiliki sentimen positif adalah \"calon presiden\", \"prabowo subianto\", dan \"maju calon\""
   ]
  }
 ],
 "metadata": {
  "kernelspec": {
   "display_name": "Python 3 (ipykernel)",
   "language": "python",
   "name": "python3"
  },
  "language_info": {
   "codemirror_mode": {
    "name": "ipython",
    "version": 3
   },
   "file_extension": ".py",
   "mimetype": "text/x-python",
   "name": "python",
   "nbconvert_exporter": "python",
   "pygments_lexer": "ipython3",
   "version": "3.9.12"
  }
 },
 "nbformat": 4,
 "nbformat_minor": 5
}
